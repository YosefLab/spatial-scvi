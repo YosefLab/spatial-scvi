{
 "cells": [
  {
   "attachments": {},
   "cell_type": "markdown",
   "id": "8cad5752",
   "metadata": {},
   "source": [
    "$NicheVI$"
   ]
  },
  {
   "cell_type": "code",
   "execution_count": 1,
   "id": "46a35e09-7108-422e-9ddf-415b2cc49ef9",
   "metadata": {},
   "outputs": [],
   "source": [
    "%load_ext autoreload\n",
    "%autoreload 2"
   ]
  },
  {
   "cell_type": "code",
   "execution_count": 2,
   "id": "2f88d7c2-f947-44ce-a608-047a3ed89044",
   "metadata": {},
   "outputs": [],
   "source": [
    "import torch\n",
    "\n",
    "import anndata as ad\n",
    "import numpy as np\n",
    "import pandas as pd\n",
    "\n",
    "from rich import print\n",
    "\n",
    "\n",
    "from sklearn.neighbors import NearestNeighbors\n",
    "\n",
    "\n",
    "import scvi"
   ]
  },
  {
   "cell_type": "code",
   "execution_count": 3,
   "id": "967ec7cb-2fc7-4b70-8026-59581b941a2e",
   "metadata": {},
   "outputs": [
    {
     "name": "stdout",
     "output_type": "stream",
     "text": [
      "adata_MERFISH_24w.h5ad\tadata_scvi_merfish4w.h5ad\n"
     ]
    }
   ],
   "source": [
    "!ls /home/nathanlevy/Data/"
   ]
  },
  {
   "cell_type": "code",
   "execution_count": 4,
   "id": "49746df0-fdce-4241-ba4f-ed417bf91ad1",
   "metadata": {},
   "outputs": [],
   "source": [
    "data_dir = \"/home/nathanlevy/Data/\"\n",
    "file = \"adata_scvi_merfish4w.h5ad\""
   ]
  },
  {
   "cell_type": "code",
   "execution_count": 5,
   "id": "64aae41b-e298-48b2-8719-ba1132d1dcce",
   "metadata": {},
   "outputs": [
    {
     "data": {
      "text/html": [
       "<pre style=\"white-space:pre;overflow-x:auto;line-height:normal;font-family:Menlo,'DejaVu Sans Mono',consolas,'Courier New',monospace\">AnnData object with n_obs × n_vars = <span style=\"color: #008080; text-decoration-color: #008080; font-weight: bold\">123632</span> × <span style=\"color: #008080; text-decoration-color: #008080; font-weight: bold\">374</span>\n",
       "    obs: <span style=\"color: #008000; text-decoration-color: #008000\">'fov'</span>, <span style=\"color: #008000; text-decoration-color: #008000\">'center_x'</span>, <span style=\"color: #008000; text-decoration-color: #008000\">'center_y'</span>, <span style=\"color: #008000; text-decoration-color: #008000\">'min_x'</span>, <span style=\"color: #008000; text-decoration-color: #008000\">'max_x'</span>, <span style=\"color: #008000; text-decoration-color: #008000\">'min_y'</span>, <span style=\"color: #008000; text-decoration-color: #008000\">'max_y'</span>, <span style=\"color: #008000; text-decoration-color: #008000\">'age'</span>, <span style=\"color: #008000; text-decoration-color: #008000\">'clust_annot'</span>, <span style=\"color: #008000; text-decoration-color: #008000\">'slice'</span>, \n",
       "<span style=\"color: #008000; text-decoration-color: #008000\">'organism_ontology_term_id'</span>, <span style=\"color: #008000; text-decoration-color: #008000\">'sex_ontology_term_id'</span>, <span style=\"color: #008000; text-decoration-color: #008000\">'suspension_type'</span>, <span style=\"color: #008000; text-decoration-color: #008000\">'cell_type_ontology_term_id'</span>, \n",
       "<span style=\"color: #008000; text-decoration-color: #008000\">'assay_ontology_term_id'</span>, <span style=\"color: #008000; text-decoration-color: #008000\">'tissue_ontology_term_id'</span>, <span style=\"color: #008000; text-decoration-color: #008000\">'disease_ontology_term_id'</span>, \n",
       "<span style=\"color: #008000; text-decoration-color: #008000\">'self_reported_ethnicity_ontology_term_id'</span>, <span style=\"color: #008000; text-decoration-color: #008000\">'development_stage_ontology_term_id'</span>, <span style=\"color: #008000; text-decoration-color: #008000\">'donor_id'</span>, <span style=\"color: #008000; text-decoration-color: #008000\">'is_primary_data'</span>, \n",
       "<span style=\"color: #008000; text-decoration-color: #008000\">'cell_type_annot'</span>, <span style=\"color: #008000; text-decoration-color: #008000\">'cell_type'</span>, <span style=\"color: #008000; text-decoration-color: #008000\">'assay'</span>, <span style=\"color: #008000; text-decoration-color: #008000\">'disease'</span>, <span style=\"color: #008000; text-decoration-color: #008000\">'organism'</span>, <span style=\"color: #008000; text-decoration-color: #008000\">'sex'</span>, <span style=\"color: #008000; text-decoration-color: #008000\">'tissue'</span>, <span style=\"color: #008000; text-decoration-color: #008000\">'self_reported_ethnicity'</span>, \n",
       "<span style=\"color: #008000; text-decoration-color: #008000\">'development_stage'</span>, <span style=\"color: #008000; text-decoration-color: #008000\">'donor_slice'</span>, <span style=\"color: #008000; text-decoration-color: #008000\">'n_counts'</span>, <span style=\"color: #008000; text-decoration-color: #008000\">'cell_index'</span>, <span style=\"color: #008000; text-decoration-color: #008000\">'_scvi_batch'</span>, <span style=\"color: #008000; text-decoration-color: #008000\">'_scvi_labels'</span>\n",
       "    uns: <span style=\"color: #008000; text-decoration-color: #008000\">'_scvi_manager_uuid'</span>, <span style=\"color: #008000; text-decoration-color: #008000\">'_scvi_uuid'</span>, <span style=\"color: #008000; text-decoration-color: #008000\">'cell_type_colors'</span>, <span style=\"color: #008000; text-decoration-color: #008000\">'donor_id_colors'</span>, <span style=\"color: #008000; text-decoration-color: #008000\">'log1p'</span>, <span style=\"color: #008000; text-decoration-color: #008000\">'neighbors'</span>, <span style=\"color: #008000; text-decoration-color: #008000\">'pca'</span>, \n",
       "<span style=\"color: #008000; text-decoration-color: #008000\">'umap'</span>\n",
       "    obsm: <span style=\"color: #008000; text-decoration-color: #008000\">'X_pca'</span>, <span style=\"color: #008000; text-decoration-color: #008000\">'X_scVI'</span>, <span style=\"color: #008000; text-decoration-color: #008000\">'X_spVI'</span>, <span style=\"color: #008000; text-decoration-color: #008000\">'X_spatial'</span>, <span style=\"color: #008000; text-decoration-color: #008000\">'X_umap'</span>, <span style=\"color: #008000; text-decoration-color: #008000\">'centroids'</span>, <span style=\"color: #008000; text-decoration-color: #008000\">'neighborhood_composition'</span>, <span style=\"color: #008000; text-decoration-color: #008000\">'spatial'</span>\n",
       "    varm: <span style=\"color: #008000; text-decoration-color: #008000\">'PCs'</span>\n",
       "    layers: <span style=\"color: #008000; text-decoration-color: #008000\">'counts'</span>\n",
       "    obsp: <span style=\"color: #008000; text-decoration-color: #008000\">'connectivities'</span>, <span style=\"color: #008000; text-decoration-color: #008000\">'distances'</span>\n",
       "</pre>\n"
      ],
      "text/plain": [
       "AnnData object with n_obs × n_vars = \u001b[1;36m123632\u001b[0m × \u001b[1;36m374\u001b[0m\n",
       "    obs: \u001b[32m'fov'\u001b[0m, \u001b[32m'center_x'\u001b[0m, \u001b[32m'center_y'\u001b[0m, \u001b[32m'min_x'\u001b[0m, \u001b[32m'max_x'\u001b[0m, \u001b[32m'min_y'\u001b[0m, \u001b[32m'max_y'\u001b[0m, \u001b[32m'age'\u001b[0m, \u001b[32m'clust_annot'\u001b[0m, \u001b[32m'slice'\u001b[0m, \n",
       "\u001b[32m'organism_ontology_term_id'\u001b[0m, \u001b[32m'sex_ontology_term_id'\u001b[0m, \u001b[32m'suspension_type'\u001b[0m, \u001b[32m'cell_type_ontology_term_id'\u001b[0m, \n",
       "\u001b[32m'assay_ontology_term_id'\u001b[0m, \u001b[32m'tissue_ontology_term_id'\u001b[0m, \u001b[32m'disease_ontology_term_id'\u001b[0m, \n",
       "\u001b[32m'self_reported_ethnicity_ontology_term_id'\u001b[0m, \u001b[32m'development_stage_ontology_term_id'\u001b[0m, \u001b[32m'donor_id'\u001b[0m, \u001b[32m'is_primary_data'\u001b[0m, \n",
       "\u001b[32m'cell_type_annot'\u001b[0m, \u001b[32m'cell_type'\u001b[0m, \u001b[32m'assay'\u001b[0m, \u001b[32m'disease'\u001b[0m, \u001b[32m'organism'\u001b[0m, \u001b[32m'sex'\u001b[0m, \u001b[32m'tissue'\u001b[0m, \u001b[32m'self_reported_ethnicity'\u001b[0m, \n",
       "\u001b[32m'development_stage'\u001b[0m, \u001b[32m'donor_slice'\u001b[0m, \u001b[32m'n_counts'\u001b[0m, \u001b[32m'cell_index'\u001b[0m, \u001b[32m'_scvi_batch'\u001b[0m, \u001b[32m'_scvi_labels'\u001b[0m\n",
       "    uns: \u001b[32m'_scvi_manager_uuid'\u001b[0m, \u001b[32m'_scvi_uuid'\u001b[0m, \u001b[32m'cell_type_colors'\u001b[0m, \u001b[32m'donor_id_colors'\u001b[0m, \u001b[32m'log1p'\u001b[0m, \u001b[32m'neighbors'\u001b[0m, \u001b[32m'pca'\u001b[0m, \n",
       "\u001b[32m'umap'\u001b[0m\n",
       "    obsm: \u001b[32m'X_pca'\u001b[0m, \u001b[32m'X_scVI'\u001b[0m, \u001b[32m'X_spVI'\u001b[0m, \u001b[32m'X_spatial'\u001b[0m, \u001b[32m'X_umap'\u001b[0m, \u001b[32m'centroids'\u001b[0m, \u001b[32m'neighborhood_composition'\u001b[0m, \u001b[32m'spatial'\u001b[0m\n",
       "    varm: \u001b[32m'PCs'\u001b[0m\n",
       "    layers: \u001b[32m'counts'\u001b[0m\n",
       "    obsp: \u001b[32m'connectivities'\u001b[0m, \u001b[32m'distances'\u001b[0m\n"
      ]
     },
     "metadata": {},
     "output_type": "display_data"
    }
   ],
   "source": [
    "adata = ad.read_h5ad(data_dir + file)\n",
    "print(adata)"
   ]
  },
  {
   "attachments": {},
   "cell_type": "markdown",
   "id": "41bd2a14-01ee-4529-b70f-89c9cb54bb20",
   "metadata": {},
   "source": [
    "## First train (linear)scVI"
   ]
  },
  {
   "cell_type": "code",
   "execution_count": 6,
   "id": "11e9a33f-6760-448b-8a35-1d13d72c0f06",
   "metadata": {},
   "outputs": [
    {
     "name": "stderr",
     "output_type": "stream",
     "text": [
      "GPU available: True (cuda), used: True\n",
      "TPU available: False, using: 0 TPU cores\n",
      "IPU available: False, using: 0 IPUs\n",
      "HPU available: False, using: 0 HPUs\n"
     ]
    },
    {
     "name": "stderr",
     "output_type": "stream",
     "text": [
      "You are using a CUDA device ('NVIDIA GeForce RTX 3090') that has Tensor Cores. To properly utilize them, you should set `torch.set_float32_matmul_precision('medium' | 'high')` which will trade-off precision for performance. For more details, read https://pytorch.org/docs/stable/generated/torch.set_float32_matmul_precision.html#torch.set_float32_matmul_precision\n",
      "LOCAL_RANK: 0 - CUDA_VISIBLE_DEVICES: [0]\n"
     ]
    },
    {
     "name": "stdout",
     "output_type": "stream",
     "text": [
      "Epoch 2/2: 100%|██████████| 2/2 [00:08<00:00,  3.99s/it, v_num=1, train_loss_step=201, train_loss_epoch=205]"
     ]
    },
    {
     "name": "stderr",
     "output_type": "stream",
     "text": [
      "`Trainer.fit` stopped: `max_epochs=2` reached.\n"
     ]
    },
    {
     "name": "stdout",
     "output_type": "stream",
     "text": [
      "Epoch 2/2: 100%|██████████| 2/2 [00:08<00:00,  4.02s/it, v_num=1, train_loss_step=201, train_loss_epoch=205]\n"
     ]
    }
   ],
   "source": [
    "scvi.model.LinearSCVI.setup_anndata(\n",
    "    adata,\n",
    "    layer=\"counts\",\n",
    "    batch_key=\"donor_id\",\n",
    ")\n",
    "\n",
    "\n",
    "vae = scvi.model.LinearSCVI(\n",
    "    adata,\n",
    "    gene_likelihood=\"poisson\",\n",
    "    n_layers=1,\n",
    "    n_latent=10,\n",
    ")\n",
    "\n",
    "vae.train(\n",
    "    max_epochs=2,\n",
    "    train_size=0.8,\n",
    "    validation_size=0.2,\n",
    "    plan_kwargs=dict(n_epochs_kl_warmup=80),\n",
    "    early_stopping=False,\n",
    ")"
   ]
  },
  {
   "cell_type": "code",
   "execution_count": 7,
   "id": "2b1304e6-bdc6-4e0a-8cd0-a679ca1d7762",
   "metadata": {},
   "outputs": [],
   "source": [
    "adata.obsm[\"qz1_m\"], adata.obsm[\"qz1_var\"] = vae.get_latent_representation(\n",
    "    return_dist=True\n",
    ")"
   ]
  },
  {
   "attachments": {},
   "cell_type": "markdown",
   "id": "8c911f61-95d3-4f57-9fc9-341aa94abd0d",
   "metadata": {},
   "source": [
    "## Then train $nicheVI$"
   ]
  },
  {
   "cell_type": "code",
   "execution_count": 8,
   "id": "b99403b6-1335-4197-a885-1958ad6cf350",
   "metadata": {},
   "outputs": [],
   "source": [
    "k_nn = 10\n",
    "n_latent_z1 = 10"
   ]
  },
  {
   "cell_type": "code",
   "execution_count": 40,
   "id": "1cc93ca4-bae6-42d6-ac03-88a493f7a5d9",
   "metadata": {},
   "outputs": [
    {
     "name": "stdout",
     "output_type": "stream",
     "text": [
      "\u001b[34mINFO    \u001b[0m Generating sequential column names                                                                        \n",
      "\u001b[34mINFO    \u001b[0m Generating sequential column names                                                                        \n",
      "\u001b[34mINFO    \u001b[0m Generating sequential column names                                                                        \n",
      "\u001b[34mINFO    \u001b[0m Generating sequential column names                                                                        \n"
     ]
    }
   ],
   "source": [
    "scvi.model.nicheSCVI.setup_anndata(\n",
    "    adata,\n",
    "    layer=\"counts\",\n",
    "    batch_key=\"donor_id\",\n",
    "    labels_key=\"cell_type\",\n",
    "    niche_composition_key=\"neighborhood_composition\",\n",
    "    niche_indexes_key=\"niche_indexes\",\n",
    "    sample_key=\"donor_slice\",\n",
    "    cell_coordinates_key=\"centroids\",\n",
    "    k_nn=10,\n",
    "    latent_mean_key=\"qz1_m\",\n",
    "    latent_var_key=\"qz1_var\",\n",
    ")\n",
    "\n",
    "nichevae = scvi.model.nicheSCVI(\n",
    "    adata,\n",
    "    # k_nn=k_nn,\n",
    "    # n_latent_z1=n_latent_z1,\n",
    "    niche_kl_weight=1,\n",
    "    niche_components='cell_type',\n",
    "    gene_likelihood=\"poisson\",\n",
    "    n_layers=1,\n",
    "    n_latent=10,\n",
    ")"
   ]
  },
  {
   "cell_type": "code",
   "execution_count": 32,
   "id": "4f4f5861",
   "metadata": {},
   "outputs": [
    {
     "data": {
      "text/plain": [
       "cell_type\n",
       "neuron                            0.5\n",
       "astrocyte                         0.2\n",
       "inhibitory interneuron            0.2\n",
       "endothelial cell                  0.1\n",
       "cell                              0.0\n",
       "T cell                            0.0\n",
       "oligodendrocyte                   0.0\n",
       "microglial cell                   0.0\n",
       "macrophage                        0.0\n",
       "pericyte                          0.0\n",
       "oligodendrocyte precursor cell    0.0\n",
       "medium spiny neuron               0.0\n",
       "vascular leptomeningeal cell      0.0\n",
       "Name: count, dtype: float64"
      ]
     },
     "execution_count": 32,
     "metadata": {},
     "output_type": "execute_result"
    }
   ],
   "source": [
    "adata.obs.reset_index()\n",
    "adata.obs.cell_type[adata.obsm[\"niche_indexes\"][-1]].value_counts()/10"
   ]
  },
  {
   "cell_type": "code",
   "execution_count": 11,
   "id": "93c036da",
   "metadata": {},
   "outputs": [
    {
     "data": {
      "text/plain": [
       "array([[    25,     17,     30, ...,     39,     42,     19],\n",
       "       [    34,     38,     37, ...,     40,     30,      2],\n",
       "       [    40,     19,     35, ...,      4,     18,     23],\n",
       "       ...,\n",
       "       [123389, 123409, 123627, ..., 123397, 123628, 123414],\n",
       "       [123624, 123631, 123598, ..., 123599, 123628, 123582],\n",
       "       [123598, 123594, 123577, ..., 123619, 123584, 123602]])"
      ]
     },
     "execution_count": 11,
     "metadata": {},
     "output_type": "execute_result"
    }
   ],
   "source": [
    "adata.obsm[\"niche_indexes\"]"
   ]
  },
  {
   "cell_type": "code",
   "execution_count": 12,
   "id": "6ad41a30",
   "metadata": {},
   "outputs": [
    {
     "data": {
      "text/html": [
       "<div>\n",
       "<style scoped>\n",
       "    .dataframe tbody tr th:only-of-type {\n",
       "        vertical-align: middle;\n",
       "    }\n",
       "\n",
       "    .dataframe tbody tr th {\n",
       "        vertical-align: top;\n",
       "    }\n",
       "\n",
       "    .dataframe thead th {\n",
       "        text-align: right;\n",
       "    }\n",
       "</style>\n",
       "<table border=\"1\" class=\"dataframe\">\n",
       "  <thead>\n",
       "    <tr style=\"text-align: right;\">\n",
       "      <th></th>\n",
       "      <th>endothelial cell</th>\n",
       "      <th>oligodendrocyte precursor cell</th>\n",
       "      <th>neuron</th>\n",
       "      <th>astrocyte</th>\n",
       "      <th>inhibitory interneuron</th>\n",
       "      <th>pericyte</th>\n",
       "      <th>oligodendrocyte</th>\n",
       "      <th>microglial cell</th>\n",
       "      <th>vascular leptomeningeal cell</th>\n",
       "      <th>medium spiny neuron</th>\n",
       "      <th>macrophage</th>\n",
       "      <th>T cell</th>\n",
       "      <th>cell</th>\n",
       "    </tr>\n",
       "  </thead>\n",
       "  <tbody>\n",
       "    <tr>\n",
       "      <th>275820748261104984743470052142490986087</th>\n",
       "      <td>0.2</td>\n",
       "      <td>0.2</td>\n",
       "      <td>0.3</td>\n",
       "      <td>0.0</td>\n",
       "      <td>0.2</td>\n",
       "      <td>0.0</td>\n",
       "      <td>0.1</td>\n",
       "      <td>0.0</td>\n",
       "      <td>0.0</td>\n",
       "      <td>0.0</td>\n",
       "      <td>0.0</td>\n",
       "      <td>0.0</td>\n",
       "      <td>0.0</td>\n",
       "    </tr>\n",
       "    <tr>\n",
       "      <th>302375575077769376592971920558356036886</th>\n",
       "      <td>0.1</td>\n",
       "      <td>0.1</td>\n",
       "      <td>0.7</td>\n",
       "      <td>0.0</td>\n",
       "      <td>0.0</td>\n",
       "      <td>0.0</td>\n",
       "      <td>0.1</td>\n",
       "      <td>0.0</td>\n",
       "      <td>0.0</td>\n",
       "      <td>0.0</td>\n",
       "      <td>0.0</td>\n",
       "      <td>0.0</td>\n",
       "      <td>0.0</td>\n",
       "    </tr>\n",
       "    <tr>\n",
       "      <th>267807829680073723631714599566507550894</th>\n",
       "      <td>0.1</td>\n",
       "      <td>0.2</td>\n",
       "      <td>0.5</td>\n",
       "      <td>0.1</td>\n",
       "      <td>0.0</td>\n",
       "      <td>0.0</td>\n",
       "      <td>0.1</td>\n",
       "      <td>0.0</td>\n",
       "      <td>0.0</td>\n",
       "      <td>0.0</td>\n",
       "      <td>0.0</td>\n",
       "      <td>0.0</td>\n",
       "      <td>0.0</td>\n",
       "    </tr>\n",
       "    <tr>\n",
       "      <th>51672646721370271404472036583758197146</th>\n",
       "      <td>0.1</td>\n",
       "      <td>0.0</td>\n",
       "      <td>0.5</td>\n",
       "      <td>0.0</td>\n",
       "      <td>0.2</td>\n",
       "      <td>0.0</td>\n",
       "      <td>0.0</td>\n",
       "      <td>0.2</td>\n",
       "      <td>0.0</td>\n",
       "      <td>0.0</td>\n",
       "      <td>0.0</td>\n",
       "      <td>0.0</td>\n",
       "      <td>0.0</td>\n",
       "    </tr>\n",
       "    <tr>\n",
       "      <th>124445072923359013299932652711178203190</th>\n",
       "      <td>0.1</td>\n",
       "      <td>0.0</td>\n",
       "      <td>0.6</td>\n",
       "      <td>0.2</td>\n",
       "      <td>0.0</td>\n",
       "      <td>0.0</td>\n",
       "      <td>0.1</td>\n",
       "      <td>0.0</td>\n",
       "      <td>0.0</td>\n",
       "      <td>0.0</td>\n",
       "      <td>0.0</td>\n",
       "      <td>0.0</td>\n",
       "      <td>0.0</td>\n",
       "    </tr>\n",
       "    <tr>\n",
       "      <th>...</th>\n",
       "      <td>...</td>\n",
       "      <td>...</td>\n",
       "      <td>...</td>\n",
       "      <td>...</td>\n",
       "      <td>...</td>\n",
       "      <td>...</td>\n",
       "      <td>...</td>\n",
       "      <td>...</td>\n",
       "      <td>...</td>\n",
       "      <td>...</td>\n",
       "      <td>...</td>\n",
       "      <td>...</td>\n",
       "      <td>...</td>\n",
       "    </tr>\n",
       "    <tr>\n",
       "      <th>201935776857989535834640798360655008792</th>\n",
       "      <td>0.1</td>\n",
       "      <td>0.0</td>\n",
       "      <td>0.1</td>\n",
       "      <td>0.7</td>\n",
       "      <td>0.0</td>\n",
       "      <td>0.0</td>\n",
       "      <td>0.1</td>\n",
       "      <td>0.0</td>\n",
       "      <td>0.0</td>\n",
       "      <td>0.0</td>\n",
       "      <td>0.0</td>\n",
       "      <td>0.0</td>\n",
       "      <td>0.0</td>\n",
       "    </tr>\n",
       "    <tr>\n",
       "      <th>96774665042238935375441098896984824742</th>\n",
       "      <td>0.2</td>\n",
       "      <td>0.0</td>\n",
       "      <td>0.1</td>\n",
       "      <td>0.4</td>\n",
       "      <td>0.1</td>\n",
       "      <td>0.0</td>\n",
       "      <td>0.1</td>\n",
       "      <td>0.1</td>\n",
       "      <td>0.0</td>\n",
       "      <td>0.0</td>\n",
       "      <td>0.0</td>\n",
       "      <td>0.0</td>\n",
       "      <td>0.0</td>\n",
       "    </tr>\n",
       "    <tr>\n",
       "      <th>63916806179766392947488205259727089290</th>\n",
       "      <td>0.2</td>\n",
       "      <td>0.0</td>\n",
       "      <td>0.0</td>\n",
       "      <td>0.7</td>\n",
       "      <td>0.0</td>\n",
       "      <td>0.0</td>\n",
       "      <td>0.1</td>\n",
       "      <td>0.0</td>\n",
       "      <td>0.0</td>\n",
       "      <td>0.0</td>\n",
       "      <td>0.0</td>\n",
       "      <td>0.0</td>\n",
       "      <td>0.0</td>\n",
       "    </tr>\n",
       "    <tr>\n",
       "      <th>282657524773287188112567162213233721197</th>\n",
       "      <td>0.0</td>\n",
       "      <td>0.0</td>\n",
       "      <td>0.3</td>\n",
       "      <td>0.3</td>\n",
       "      <td>0.2</td>\n",
       "      <td>0.0</td>\n",
       "      <td>0.0</td>\n",
       "      <td>0.2</td>\n",
       "      <td>0.0</td>\n",
       "      <td>0.0</td>\n",
       "      <td>0.0</td>\n",
       "      <td>0.0</td>\n",
       "      <td>0.0</td>\n",
       "    </tr>\n",
       "    <tr>\n",
       "      <th>194705639241266092000471414934606760647</th>\n",
       "      <td>0.1</td>\n",
       "      <td>0.0</td>\n",
       "      <td>0.5</td>\n",
       "      <td>0.2</td>\n",
       "      <td>0.2</td>\n",
       "      <td>0.0</td>\n",
       "      <td>0.0</td>\n",
       "      <td>0.0</td>\n",
       "      <td>0.0</td>\n",
       "      <td>0.0</td>\n",
       "      <td>0.0</td>\n",
       "      <td>0.0</td>\n",
       "      <td>0.0</td>\n",
       "    </tr>\n",
       "  </tbody>\n",
       "</table>\n",
       "<p>123632 rows × 13 columns</p>\n",
       "</div>"
      ],
      "text/plain": [
       "                                         endothelial cell  \\\n",
       "275820748261104984743470052142490986087               0.2   \n",
       "302375575077769376592971920558356036886               0.1   \n",
       "267807829680073723631714599566507550894               0.1   \n",
       "51672646721370271404472036583758197146                0.1   \n",
       "124445072923359013299932652711178203190               0.1   \n",
       "...                                                   ...   \n",
       "201935776857989535834640798360655008792               0.1   \n",
       "96774665042238935375441098896984824742                0.2   \n",
       "63916806179766392947488205259727089290                0.2   \n",
       "282657524773287188112567162213233721197               0.0   \n",
       "194705639241266092000471414934606760647               0.1   \n",
       "\n",
       "                                         oligodendrocyte precursor cell  \\\n",
       "275820748261104984743470052142490986087                             0.2   \n",
       "302375575077769376592971920558356036886                             0.1   \n",
       "267807829680073723631714599566507550894                             0.2   \n",
       "51672646721370271404472036583758197146                              0.0   \n",
       "124445072923359013299932652711178203190                             0.0   \n",
       "...                                                                 ...   \n",
       "201935776857989535834640798360655008792                             0.0   \n",
       "96774665042238935375441098896984824742                              0.0   \n",
       "63916806179766392947488205259727089290                              0.0   \n",
       "282657524773287188112567162213233721197                             0.0   \n",
       "194705639241266092000471414934606760647                             0.0   \n",
       "\n",
       "                                         neuron  astrocyte  \\\n",
       "275820748261104984743470052142490986087     0.3        0.0   \n",
       "302375575077769376592971920558356036886     0.7        0.0   \n",
       "267807829680073723631714599566507550894     0.5        0.1   \n",
       "51672646721370271404472036583758197146      0.5        0.0   \n",
       "124445072923359013299932652711178203190     0.6        0.2   \n",
       "...                                         ...        ...   \n",
       "201935776857989535834640798360655008792     0.1        0.7   \n",
       "96774665042238935375441098896984824742      0.1        0.4   \n",
       "63916806179766392947488205259727089290      0.0        0.7   \n",
       "282657524773287188112567162213233721197     0.3        0.3   \n",
       "194705639241266092000471414934606760647     0.5        0.2   \n",
       "\n",
       "                                         inhibitory interneuron  pericyte  \\\n",
       "275820748261104984743470052142490986087                     0.2       0.0   \n",
       "302375575077769376592971920558356036886                     0.0       0.0   \n",
       "267807829680073723631714599566507550894                     0.0       0.0   \n",
       "51672646721370271404472036583758197146                      0.2       0.0   \n",
       "124445072923359013299932652711178203190                     0.0       0.0   \n",
       "...                                                         ...       ...   \n",
       "201935776857989535834640798360655008792                     0.0       0.0   \n",
       "96774665042238935375441098896984824742                      0.1       0.0   \n",
       "63916806179766392947488205259727089290                      0.0       0.0   \n",
       "282657524773287188112567162213233721197                     0.2       0.0   \n",
       "194705639241266092000471414934606760647                     0.2       0.0   \n",
       "\n",
       "                                         oligodendrocyte  microglial cell  \\\n",
       "275820748261104984743470052142490986087              0.1              0.0   \n",
       "302375575077769376592971920558356036886              0.1              0.0   \n",
       "267807829680073723631714599566507550894              0.1              0.0   \n",
       "51672646721370271404472036583758197146               0.0              0.2   \n",
       "124445072923359013299932652711178203190              0.1              0.0   \n",
       "...                                                  ...              ...   \n",
       "201935776857989535834640798360655008792              0.1              0.0   \n",
       "96774665042238935375441098896984824742               0.1              0.1   \n",
       "63916806179766392947488205259727089290               0.1              0.0   \n",
       "282657524773287188112567162213233721197              0.0              0.2   \n",
       "194705639241266092000471414934606760647              0.0              0.0   \n",
       "\n",
       "                                         vascular leptomeningeal cell  \\\n",
       "275820748261104984743470052142490986087                           0.0   \n",
       "302375575077769376592971920558356036886                           0.0   \n",
       "267807829680073723631714599566507550894                           0.0   \n",
       "51672646721370271404472036583758197146                            0.0   \n",
       "124445072923359013299932652711178203190                           0.0   \n",
       "...                                                               ...   \n",
       "201935776857989535834640798360655008792                           0.0   \n",
       "96774665042238935375441098896984824742                            0.0   \n",
       "63916806179766392947488205259727089290                            0.0   \n",
       "282657524773287188112567162213233721197                           0.0   \n",
       "194705639241266092000471414934606760647                           0.0   \n",
       "\n",
       "                                         medium spiny neuron  macrophage  \\\n",
       "275820748261104984743470052142490986087                  0.0         0.0   \n",
       "302375575077769376592971920558356036886                  0.0         0.0   \n",
       "267807829680073723631714599566507550894                  0.0         0.0   \n",
       "51672646721370271404472036583758197146                   0.0         0.0   \n",
       "124445072923359013299932652711178203190                  0.0         0.0   \n",
       "...                                                      ...         ...   \n",
       "201935776857989535834640798360655008792                  0.0         0.0   \n",
       "96774665042238935375441098896984824742                   0.0         0.0   \n",
       "63916806179766392947488205259727089290                   0.0         0.0   \n",
       "282657524773287188112567162213233721197                  0.0         0.0   \n",
       "194705639241266092000471414934606760647                  0.0         0.0   \n",
       "\n",
       "                                         T cell  cell  \n",
       "275820748261104984743470052142490986087     0.0   0.0  \n",
       "302375575077769376592971920558356036886     0.0   0.0  \n",
       "267807829680073723631714599566507550894     0.0   0.0  \n",
       "51672646721370271404472036583758197146      0.0   0.0  \n",
       "124445072923359013299932652711178203190     0.0   0.0  \n",
       "...                                         ...   ...  \n",
       "201935776857989535834640798360655008792     0.0   0.0  \n",
       "96774665042238935375441098896984824742      0.0   0.0  \n",
       "63916806179766392947488205259727089290      0.0   0.0  \n",
       "282657524773287188112567162213233721197     0.0   0.0  \n",
       "194705639241266092000471414934606760647     0.0   0.0  \n",
       "\n",
       "[123632 rows x 13 columns]"
      ]
     },
     "execution_count": 12,
     "metadata": {},
     "output_type": "execute_result"
    }
   ],
   "source": [
    "adata.obsm[\"neighborhood_composition\"]"
   ]
  },
  {
   "attachments": {},
   "cell_type": "markdown",
   "id": "4a83cde5-74c6-4d24-aea6-c014558766d5",
   "metadata": {},
   "source": [
    "Experiments with **Niche decoder**"
   ]
  },
  {
   "cell_type": "code",
   "execution_count": 13,
   "id": "d2fcb828-e522-4e09-9328-f268cfd18281",
   "metadata": {},
   "outputs": [
    {
     "data": {
      "text/plain": [
       "n_batch: 4\n",
       "n_cells: 123632\n",
       "n_extra_categorical_covs: 0\n",
       "n_extra_continuous_covs: 0\n",
       "n_labels: 13\n",
       "n_latent_mean: 10\n",
       "n_latent_var: 10\n",
       "n_niche_composition: 13\n",
       "n_niche_indexes: 10\n",
       "n_vars: 374"
      ]
     },
     "execution_count": 13,
     "metadata": {},
     "output_type": "execute_result"
    }
   ],
   "source": [
    "nichevae.summary_stats"
   ]
  },
  {
   "cell_type": "code",
   "execution_count": 14,
   "id": "c31d00db-967b-4d0d-82cc-1e0a33db0496",
   "metadata": {},
   "outputs": [
    {
     "data": {
      "text/html": [
       "<pre style=\"white-space:pre;overflow-x:auto;line-height:normal;font-family:Menlo,'DejaVu Sans Mono',consolas,'Courier New',monospace\"><span style=\"color: #800080; text-decoration-color: #800080; font-weight: bold\">NicheDecoder</span><span style=\"font-weight: bold\">(</span>\n",
       "  <span style=\"font-weight: bold\">(</span>decoder<span style=\"font-weight: bold\">)</span>: <span style=\"color: #800080; text-decoration-color: #800080; font-weight: bold\">FCLayers</span><span style=\"font-weight: bold\">(</span>\n",
       "    <span style=\"font-weight: bold\">(</span>fc_layers<span style=\"font-weight: bold\">)</span>: <span style=\"color: #800080; text-decoration-color: #800080; font-weight: bold\">Sequential</span><span style=\"font-weight: bold\">(</span>\n",
       "      <span style=\"font-weight: bold\">(</span>Layer <span style=\"color: #008080; text-decoration-color: #008080; font-weight: bold\">0</span><span style=\"font-weight: bold\">)</span>: <span style=\"color: #800080; text-decoration-color: #800080; font-weight: bold\">Sequential</span><span style=\"font-weight: bold\">(</span>\n",
       "        <span style=\"font-weight: bold\">(</span><span style=\"color: #008080; text-decoration-color: #008080; font-weight: bold\">0</span><span style=\"font-weight: bold\">)</span>: <span style=\"color: #800080; text-decoration-color: #800080; font-weight: bold\">Linear</span><span style=\"font-weight: bold\">(</span><span style=\"color: #808000; text-decoration-color: #808000\">in_features</span>=<span style=\"color: #008080; text-decoration-color: #008080; font-weight: bold\">10</span>, <span style=\"color: #808000; text-decoration-color: #808000\">out_features</span>=<span style=\"color: #008080; text-decoration-color: #008080; font-weight: bold\">128</span>, <span style=\"color: #808000; text-decoration-color: #808000\">bias</span>=<span style=\"color: #00ff00; text-decoration-color: #00ff00; font-style: italic\">True</span><span style=\"font-weight: bold\">)</span>\n",
       "        <span style=\"font-weight: bold\">(</span><span style=\"color: #008080; text-decoration-color: #008080; font-weight: bold\">1</span><span style=\"font-weight: bold\">)</span>: <span style=\"color: #800080; text-decoration-color: #800080; font-weight: bold\">BatchNorm1d</span><span style=\"font-weight: bold\">(</span><span style=\"color: #008080; text-decoration-color: #008080; font-weight: bold\">128</span>, <span style=\"color: #808000; text-decoration-color: #808000\">eps</span>=<span style=\"color: #008080; text-decoration-color: #008080; font-weight: bold\">0.001</span>, <span style=\"color: #808000; text-decoration-color: #808000\">momentum</span>=<span style=\"color: #008080; text-decoration-color: #008080; font-weight: bold\">0.01</span>, <span style=\"color: #808000; text-decoration-color: #808000\">affine</span>=<span style=\"color: #00ff00; text-decoration-color: #00ff00; font-style: italic\">True</span>, <span style=\"color: #808000; text-decoration-color: #808000\">track_running_stats</span>=<span style=\"color: #00ff00; text-decoration-color: #00ff00; font-style: italic\">True</span><span style=\"font-weight: bold\">)</span>\n",
       "        <span style=\"font-weight: bold\">(</span><span style=\"color: #008080; text-decoration-color: #008080; font-weight: bold\">2</span><span style=\"font-weight: bold\">)</span>: <span style=\"color: #800080; text-decoration-color: #800080; font-style: italic\">None</span>\n",
       "        <span style=\"font-weight: bold\">(</span><span style=\"color: #008080; text-decoration-color: #008080; font-weight: bold\">3</span><span style=\"font-weight: bold\">)</span>: <span style=\"color: #800080; text-decoration-color: #800080; font-weight: bold\">ReLU</span><span style=\"font-weight: bold\">()</span>\n",
       "        <span style=\"font-weight: bold\">(</span><span style=\"color: #008080; text-decoration-color: #008080; font-weight: bold\">4</span><span style=\"font-weight: bold\">)</span>: <span style=\"color: #800080; text-decoration-color: #800080; font-style: italic\">None</span>\n",
       "      <span style=\"font-weight: bold\">)</span>\n",
       "    <span style=\"font-weight: bold\">)</span>\n",
       "  <span style=\"font-weight: bold\">)</span>\n",
       "  <span style=\"font-weight: bold\">(</span>mean_decoder<span style=\"font-weight: bold\">)</span>: <span style=\"color: #800080; text-decoration-color: #800080; font-weight: bold\">Linear</span><span style=\"font-weight: bold\">(</span><span style=\"color: #808000; text-decoration-color: #808000\">in_features</span>=<span style=\"color: #008080; text-decoration-color: #008080; font-weight: bold\">128</span>, <span style=\"color: #808000; text-decoration-color: #808000\">out_features</span>=<span style=\"color: #008080; text-decoration-color: #008080; font-weight: bold\">100</span>, <span style=\"color: #808000; text-decoration-color: #808000\">bias</span>=<span style=\"color: #00ff00; text-decoration-color: #00ff00; font-style: italic\">True</span><span style=\"font-weight: bold\">)</span>\n",
       "  <span style=\"font-weight: bold\">(</span>var_decoder<span style=\"font-weight: bold\">)</span>: <span style=\"color: #800080; text-decoration-color: #800080; font-weight: bold\">Linear</span><span style=\"font-weight: bold\">(</span><span style=\"color: #808000; text-decoration-color: #808000\">in_features</span>=<span style=\"color: #008080; text-decoration-color: #008080; font-weight: bold\">128</span>, <span style=\"color: #808000; text-decoration-color: #808000\">out_features</span>=<span style=\"color: #008080; text-decoration-color: #008080; font-weight: bold\">100</span>, <span style=\"color: #808000; text-decoration-color: #808000\">bias</span>=<span style=\"color: #00ff00; text-decoration-color: #00ff00; font-style: italic\">True</span><span style=\"font-weight: bold\">)</span>\n",
       "<span style=\"font-weight: bold\">)</span>\n",
       "</pre>\n"
      ],
      "text/plain": [
       "\u001b[1;35mNicheDecoder\u001b[0m\u001b[1m(\u001b[0m\n",
       "  \u001b[1m(\u001b[0mdecoder\u001b[1m)\u001b[0m: \u001b[1;35mFCLayers\u001b[0m\u001b[1m(\u001b[0m\n",
       "    \u001b[1m(\u001b[0mfc_layers\u001b[1m)\u001b[0m: \u001b[1;35mSequential\u001b[0m\u001b[1m(\u001b[0m\n",
       "      \u001b[1m(\u001b[0mLayer \u001b[1;36m0\u001b[0m\u001b[1m)\u001b[0m: \u001b[1;35mSequential\u001b[0m\u001b[1m(\u001b[0m\n",
       "        \u001b[1m(\u001b[0m\u001b[1;36m0\u001b[0m\u001b[1m)\u001b[0m: \u001b[1;35mLinear\u001b[0m\u001b[1m(\u001b[0m\u001b[33min_features\u001b[0m=\u001b[1;36m10\u001b[0m, \u001b[33mout_features\u001b[0m=\u001b[1;36m128\u001b[0m, \u001b[33mbias\u001b[0m=\u001b[3;92mTrue\u001b[0m\u001b[1m)\u001b[0m\n",
       "        \u001b[1m(\u001b[0m\u001b[1;36m1\u001b[0m\u001b[1m)\u001b[0m: \u001b[1;35mBatchNorm1d\u001b[0m\u001b[1m(\u001b[0m\u001b[1;36m128\u001b[0m, \u001b[33meps\u001b[0m=\u001b[1;36m0\u001b[0m\u001b[1;36m.001\u001b[0m, \u001b[33mmomentum\u001b[0m=\u001b[1;36m0\u001b[0m\u001b[1;36m.01\u001b[0m, \u001b[33maffine\u001b[0m=\u001b[3;92mTrue\u001b[0m, \u001b[33mtrack_running_stats\u001b[0m=\u001b[3;92mTrue\u001b[0m\u001b[1m)\u001b[0m\n",
       "        \u001b[1m(\u001b[0m\u001b[1;36m2\u001b[0m\u001b[1m)\u001b[0m: \u001b[3;35mNone\u001b[0m\n",
       "        \u001b[1m(\u001b[0m\u001b[1;36m3\u001b[0m\u001b[1m)\u001b[0m: \u001b[1;35mReLU\u001b[0m\u001b[1m(\u001b[0m\u001b[1m)\u001b[0m\n",
       "        \u001b[1m(\u001b[0m\u001b[1;36m4\u001b[0m\u001b[1m)\u001b[0m: \u001b[3;35mNone\u001b[0m\n",
       "      \u001b[1m)\u001b[0m\n",
       "    \u001b[1m)\u001b[0m\n",
       "  \u001b[1m)\u001b[0m\n",
       "  \u001b[1m(\u001b[0mmean_decoder\u001b[1m)\u001b[0m: \u001b[1;35mLinear\u001b[0m\u001b[1m(\u001b[0m\u001b[33min_features\u001b[0m=\u001b[1;36m128\u001b[0m, \u001b[33mout_features\u001b[0m=\u001b[1;36m100\u001b[0m, \u001b[33mbias\u001b[0m=\u001b[3;92mTrue\u001b[0m\u001b[1m)\u001b[0m\n",
       "  \u001b[1m(\u001b[0mvar_decoder\u001b[1m)\u001b[0m: \u001b[1;35mLinear\u001b[0m\u001b[1m(\u001b[0m\u001b[33min_features\u001b[0m=\u001b[1;36m128\u001b[0m, \u001b[33mout_features\u001b[0m=\u001b[1;36m100\u001b[0m, \u001b[33mbias\u001b[0m=\u001b[3;92mTrue\u001b[0m\u001b[1m)\u001b[0m\n",
       "\u001b[1m)\u001b[0m\n"
      ]
     },
     "metadata": {},
     "output_type": "display_data"
    }
   ],
   "source": [
    "print(nichevae.module.niche_decoder)"
   ]
  },
  {
   "cell_type": "code",
   "execution_count": 15,
   "id": "40309c0e-e814-4a11-bac3-1e86406b7f67",
   "metadata": {},
   "outputs": [
    {
     "data": {
      "text/plain": [
       "array([25, 17, 30, 43, 10, 36, 35, 39, 42, 19])"
      ]
     },
     "execution_count": 15,
     "metadata": {},
     "output_type": "execute_result"
    }
   ],
   "source": [
    "adata.obsm[\"niche_indexes\"][0]"
   ]
  },
  {
   "cell_type": "code",
   "execution_count": 16,
   "id": "c85b0869-8c64-4d6b-aa10-3e169be8427e",
   "metadata": {},
   "outputs": [
    {
     "data": {
      "text/plain": [
       "device(type='cpu')"
      ]
     },
     "execution_count": 16,
     "metadata": {},
     "output_type": "execute_result"
    }
   ],
   "source": [
    "nichevae.device"
   ]
  },
  {
   "cell_type": "code",
   "execution_count": 41,
   "id": "da43e646-13c9-4c8d-af51-ba0df778bc21",
   "metadata": {},
   "outputs": [],
   "source": [
    "latent_cell = torch.ones((2, 10), device=nichevae.device)  # (batch_size*latent_size)\n",
    "\n",
    "niche_mean, niche_var = nichevae.module.niche_decoder(\n",
    "    latent_cell\n",
    ")  # (batch_size*latent_size*k_nn)"
   ]
  },
  {
   "cell_type": "code",
   "execution_count": 37,
   "id": "a0a12d03-0352-4434-80fc-1a1d5b6a9ea3",
   "metadata": {
    "scrolled": true
   },
   "outputs": [],
   "source": [
    "batch_size = 2\n",
    "latent_size = 10\n",
    "k_nn = 10\n",
    "\n",
    "a=k_nn\n",
    "b=latent_size\n",
    "\n",
    "# Assuming 'tensor' is your tensor of shape (batch_size, a, b)\n",
    "# Assuming 'weights' is your tensor of shape (batch_size, a)\n",
    "tensor = torch.randn(batch_size, a, b)\n",
    "weights = torch.randn(batch_size, a)\n",
    "\n",
    "# Multiply the tensor by the weights element-wise\n",
    "weighted_tensor = tensor * weights.unsqueeze(-1)\n",
    "\n",
    "# Sum along the 'a' dimension\n",
    "sum_a = weighted_tensor.sum(dim=1)\n"
   ]
  },
  {
   "cell_type": "code",
   "execution_count": 39,
   "id": "9a8add35",
   "metadata": {},
   "outputs": [
    {
     "data": {
      "text/plain": [
       "torch.Size([2, 10, 10])"
      ]
     },
     "execution_count": 39,
     "metadata": {},
     "output_type": "execute_result"
    }
   ],
   "source": [
    "niche_mean_mat.shape"
   ]
  },
  {
   "cell_type": "code",
   "execution_count": 48,
   "id": "77d5ad19",
   "metadata": {},
   "outputs": [],
   "source": [
    "# Multiply the tensor by the weights element-wise\n",
    "weighted_tensor = niche_mean_mat * torch.tensor(adata.obsm[\"neighborhood_composition\"][:2].values).unsqueeze(-1)\n",
    "\n",
    "# Sum along the 'a' dimension\n",
    "sum_a = weighted_tensor.sum(dim=1)"
   ]
  },
  {
   "cell_type": "code",
   "execution_count": 45,
   "id": "7fe6e0b7",
   "metadata": {},
   "outputs": [
    {
     "data": {
      "text/plain": [
       "13"
      ]
     },
     "execution_count": 45,
     "metadata": {},
     "output_type": "execute_result"
    }
   ],
   "source": [
    "nichevae.module.n_niche_components"
   ]
  },
  {
   "cell_type": "code",
   "execution_count": 46,
   "id": "e5992880-2513-44d6-a653-74d2021a113f",
   "metadata": {},
   "outputs": [],
   "source": [
    "nichevae.module.n_niche_components\n",
    "\n",
    "niche_mean_mat = niche_mean.reshape(niche_mean.shape[0], nichevae.module.n_niche_components, n_latent_z1)\n",
    "niche_var_mat = niche_var.reshape(niche_var.shape[0], nichevae.module.n_niche_components, n_latent_z1)\n",
    "\n",
    "niche_mean_agg = torch.sum(niche_mean_mat, dim=1)\n",
    "niche_var_agg = torch.sum(niche_var_mat, dim=1)"
   ]
  },
  {
   "cell_type": "code",
   "execution_count": 20,
   "id": "9751b066-bed2-4696-900e-64cf62dd8d17",
   "metadata": {},
   "outputs": [
    {
     "data": {
      "text/plain": [
       "torch.Size([2, 10])"
      ]
     },
     "execution_count": 20,
     "metadata": {},
     "output_type": "execute_result"
    }
   ],
   "source": [
    "niche_mean_agg.shape"
   ]
  },
  {
   "cell_type": "code",
   "execution_count": 21,
   "id": "a459d743-b4c6-483b-9b06-40fc77261ea3",
   "metadata": {},
   "outputs": [
    {
     "data": {
      "text/plain": [
       "Normal(loc: torch.Size([2, 10, 10]), scale: torch.Size([2, 10, 10]))"
      ]
     },
     "execution_count": 21,
     "metadata": {},
     "output_type": "execute_result"
    }
   ],
   "source": [
    "torch.distributions.normal.Normal(niche_mean_mat, niche_var_mat)"
   ]
  },
  {
   "cell_type": "code",
   "execution_count": 22,
   "id": "05840f0e-5dad-4498-a6e6-a9049f2e9f04",
   "metadata": {},
   "outputs": [
    {
     "name": "stderr",
     "output_type": "stream",
     "text": [
      "GPU available: True (cuda), used: True\n",
      "TPU available: False, using: 0 TPU cores\n",
      "IPU available: False, using: 0 IPUs\n",
      "HPU available: False, using: 0 HPUs\n",
      "You are using a CUDA device ('NVIDIA GeForce RTX 3090') that has Tensor Cores. To properly utilize them, you should set `torch.set_float32_matmul_precision('medium' | 'high')` which will trade-off precision for performance. For more details, read https://pytorch.org/docs/stable/generated/torch.set_float32_matmul_precision.html#torch.set_float32_matmul_precision\n",
      "LOCAL_RANK: 0 - CUDA_VISIBLE_DEVICES: [0]\n"
     ]
    },
    {
     "name": "stdout",
     "output_type": "stream",
     "text": [
      "Epoch 1/1:   0%|          | 0/1 [00:00<?, ?it/s]"
     ]
    },
    {
     "name": "stderr",
     "output_type": "stream",
     "text": [
      "/home/nathanlevy/mambaforge/envs/phenospace_23/lib/python3.11/site-packages/lightning/pytorch/trainer/connectors/logger_connector/result.py:212: UserWarning: You called `self.log('niche_kl_train', ...)` in your `training_step` but the value needs to be floating point. Converting it to torch.float32.\n",
      "  warning_cache.warn(\n"
     ]
    },
    {
     "name": "stdout",
     "output_type": "stream",
     "text": [
      "Epoch 1/1: 100%|██████████| 1/1 [00:00<00:00,  1.68it/s, v_num=1, train_loss_step=199, train_loss_epoch=240]"
     ]
    },
    {
     "name": "stderr",
     "output_type": "stream",
     "text": [
      "`Trainer.fit` stopped: `max_epochs=1` reached.\n"
     ]
    },
    {
     "name": "stdout",
     "output_type": "stream",
     "text": [
      "Epoch 1/1: 100%|██████████| 1/1 [00:00<00:00,  1.66it/s, v_num=1, train_loss_step=199, train_loss_epoch=240]\n"
     ]
    }
   ],
   "source": [
    "nichevae.train(\n",
    "    max_epochs=1,\n",
    "    train_size=0.8,\n",
    "    validation_size=0.2,\n",
    "    plan_kwargs=dict(n_epochs_kl_warmup=80),\n",
    "    early_stopping=False,\n",
    "    batch_size=1000,\n",
    ")"
   ]
  },
  {
   "attachments": {},
   "cell_type": "markdown",
   "id": "6729c2b0-ba76-456a-ba50-806e59423a02",
   "metadata": {},
   "source": [
    "## Code to train compo-scVI"
   ]
  },
  {
   "cell_type": "code",
   "execution_count": 23,
   "id": "ecede512-f58b-4d80-9df7-2f95e54e1319",
   "metadata": {},
   "outputs": [
    {
     "name": "stdout",
     "output_type": "stream",
     "text": [
      "\u001b[34mINFO    \u001b[0m Using column names from columns of adata.obsm\u001b[1m[\u001b[0m\u001b[32m'neighborhood_composition'\u001b[0m\u001b[1m]\u001b[0m                                 \n"
     ]
    },
    {
     "name": "stderr",
     "output_type": "stream",
     "text": [
      "GPU available: True (cuda), used: True\n",
      "TPU available: False, using: 0 TPU cores\n",
      "IPU available: False, using: 0 IPUs\n",
      "HPU available: False, using: 0 HPUs\n",
      "You are using a CUDA device ('NVIDIA GeForce RTX 3090') that has Tensor Cores. To properly utilize them, you should set `torch.set_float32_matmul_precision('medium' | 'high')` which will trade-off precision for performance. For more details, read https://pytorch.org/docs/stable/generated/torch.set_float32_matmul_precision.html#torch.set_float32_matmul_precision\n",
      "LOCAL_RANK: 0 - CUDA_VISIBLE_DEVICES: [0]\n"
     ]
    },
    {
     "name": "stdout",
     "output_type": "stream",
     "text": [
      "Epoch 1/1:   0%|          | 0/1 [00:00<?, ?it/s]"
     ]
    },
    {
     "name": "stdout",
     "output_type": "stream",
     "text": [
      "Epoch 1/1: 100%|██████████| 1/1 [00:03<00:00,  3.95s/it, v_num=1, train_loss_step=195, train_loss_epoch=209]"
     ]
    },
    {
     "name": "stderr",
     "output_type": "stream",
     "text": [
      "`Trainer.fit` stopped: `max_epochs=1` reached.\n"
     ]
    },
    {
     "name": "stdout",
     "output_type": "stream",
     "text": [
      "Epoch 1/1: 100%|██████████| 1/1 [00:03<00:00,  3.95s/it, v_num=1, train_loss_step=195, train_loss_epoch=209]\n"
     ]
    }
   ],
   "source": [
    "scvi.model.compoSCVI.setup_anndata(\n",
    "    adata,\n",
    "    layer=\"counts\",\n",
    "    batch_key=\"donor_id\",\n",
    "    niche_composition_key=\"neighborhood_composition\",\n",
    ")\n",
    "\n",
    "n_cell_types = adata.obsm[\"neighborhood_composition\"].shape[1]\n",
    "\n",
    "compovae = scvi.model.compoSCVI(\n",
    "    adata,\n",
    "    gene_likelihood=\"poisson\",\n",
    "    n_layers=1,\n",
    "    n_latent=15,\n",
    "    n_cell_types=n_cell_types,\n",
    "    ce_weight=10,\n",
    ")\n",
    "\n",
    "compovae.train(\n",
    "    max_epochs=1,\n",
    "    train_size=0.8,\n",
    "    validation_size=0.2,\n",
    "    plan_kwargs=dict(n_epochs_kl_warmup=80),\n",
    "    early_stopping=False,\n",
    ")\n",
    "\n",
    "adata.obsm[\"ct_pred\"] = compovae.predict_neighborhood(softmax=True)"
   ]
  }
 ],
 "metadata": {
  "kernelspec": {
   "display_name": "phenospace23",
   "language": "python",
   "name": "phenospace23"
  },
  "language_info": {
   "codemirror_mode": {
    "name": "ipython",
    "version": 3
   },
   "file_extension": ".py",
   "mimetype": "text/x-python",
   "name": "python",
   "nbconvert_exporter": "python",
   "pygments_lexer": "ipython3",
   "version": "3.11.4"
  }
 },
 "nbformat": 4,
 "nbformat_minor": 5
}
